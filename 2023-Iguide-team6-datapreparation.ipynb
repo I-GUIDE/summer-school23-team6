{
 "cells": [
  {
   "cell_type": "markdown",
   "id": "e308539d-992f-493c-9eb8-46d7b921438d",
   "metadata": {},
   "source": [
    "# Data preparation for GeoAI Models\n",
    "#### Team 6: Claire Simpson, Salar Jarhan, Yalin Yang, Jiyoung Lee, Yanhong Huang"
   ]
  },
  {
   "cell_type": "markdown",
   "id": "8790d95d-c4ef-4528-a230-eaa4cac6f188",
   "metadata": {},
   "source": [
    "### 1. Introduction\n",
    "<span style=\"color: Grey; font-size: 1.1em\">As of August 03, 2023, NASA and IBM announced a largest GeoAI Foundation Model, using Harmonized Landsat and Sentinel-2 data. We migrated the foundation model over I-GUIDE and fine tuned the model for detecting *'Build-up'* and *'Non-build-up area'*.</span>"
   ]
  },
  {
   "cell_type": "markdown",
   "id": "47923ffe-83aa-421b-9376-b940a380f2b1",
   "metadata": {},
   "source": [
    "### 2. Download the demo\n",
    "<span style=\"color: Grey; font-size: 1.1em\">Run the following cell to download the demo from the Hugging Face. It will colne the IBM NASA Geospatial demo and the model.</span>"
   ]
  },
  {
   "cell_type": "code",
   "execution_count": 5,
   "id": "9a1f144d-3f99-40cf-94af-ce899bcdc2c8",
   "metadata": {},
   "outputs": [
    {
     "name": "stdout",
     "output_type": "stream",
     "text": [
      "Defaulting to user installation because normal site-packages is not writeable\n",
      "Requirement already satisfied: git-lfs in ./.local/lib/python3.8/site-packages (1.6)\n",
      "\u001b[33mWARNING: You are using pip version 22.0.4; however, version 23.2.1 is available.\n",
      "You should consider upgrading via the '/usr/bin/python -m pip install --upgrade pip' command.\u001b[0m\u001b[33m\n",
      "\u001b[0mfatal: destination path 'Prithvi-100M-demo' already exists and is not an empty directory.\n",
      "fatal: destination path 'Prithvi-100M' already exists and is not an empty directory.\n"
     ]
    }
   ],
   "source": [
    "# Install Git Large File Storage\n",
    "!pip install git-lfs\n",
    "\n",
    "# Clone Prithvi-100M-Demo\n",
    "!git clone https://huggingface.co/spaces/ibm-nasa-geospatial/Prithvi-100M-demo\n",
    "\n",
    "# Clone Prithvi-100M\n",
    "!git clone https://huggingface.co/ibm-nasa-geospatial/Prithvi-100M"
   ]
  },
  {
   "cell_type": "markdown",
   "id": "f5e8dbc6-39d4-4835-bcef-526e218050d0",
   "metadata": {},
   "source": [
    "<span style=\"color: Grey; font-size: 1.1em\">-----<br>\n",
    "Open *Prithvi_run_inference.py* script in the *Prithvi-100M repository* <br>\n",
    "Add </span> `from Prithvi import MaskedAutoencoderViT` <span style=\"color: Grey; font-size: 1.1em\"> and commented out </span> `from mae.models_mae import MaskedAutoencoderViT`  <br><br>\n",
    "<img src=\"img-for-jupyter/editCode.png\"><br>\n",
    "<span style=\"color: Grey; font-size: 1.1em\">Then, in the terminal, go to the Prithvi-100M directory and run the following code.</span>\n",
    "\n",
    "`cd Prithvi-100M`\n",
    "\n",
    "`python Prithvi_run_inference.py --data_files ../Prithvi-100M-demo/HLS.L30.T13REN.2018013T172747.v2.0.B02.B03.B04.B05.B06.B07_cropped.tif ../Prithvi-100M-demo/HLS.L30.T13REN.2018013T172747.v2.0.B02.B03.B04.B05.B06.B07_cropped.tif ../Prithvi-100M-demo/HLS.L30.T13REN.2018013T172747.v2.0.B02.B03.B04.B05.B06.B07_cropped.tif --yaml_file_path Prithvi_100M_config.yaml --checkpoint Prithvi_100M.pt --output_dir out --mask_ratio 0.5` <br><br>\n",
    "<span style=\"color: Grey; font-size: 1.1em\">You will see the 'done' message in the terminal and can find the outputs in *out* repository  </span><br><br>\n",
    "<img src=\"img-for-jupyter/result.png\">"
   ]
  },
  {
   "cell_type": "code",
   "execution_count": null,
   "id": "d8d20ebd-3e9b-45cc-a42c-b66fbeca1a5f",
   "metadata": {},
   "outputs": [],
   "source": []
  }
 ],
 "metadata": {
  "kernelspec": {
   "display_name": "Python 3 (ipykernel)",
   "language": "python",
   "name": "python3"
  },
  "language_info": {
   "codemirror_mode": {
    "name": "ipython",
    "version": 3
   },
   "file_extension": ".py",
   "mimetype": "text/x-python",
   "name": "python",
   "nbconvert_exporter": "python",
   "pygments_lexer": "ipython3",
   "version": "3.8.10"
  }
 },
 "nbformat": 4,
 "nbformat_minor": 5
}
