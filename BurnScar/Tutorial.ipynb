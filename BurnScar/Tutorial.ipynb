{
 "cells": [
  {
   "cell_type": "code",
   "execution_count": null,
   "id": "2497e82d-d189-4253-8650-e8907e356d10",
   "metadata": {},
   "outputs": [],
   "source": [
    "# Install Git Large File Storage\n",
    "!pip install git-lfs\n",
    "\n",
    "# Clone Prithvi-100M-Demo\n",
    "!git clone https://huggingface.co/spaces/ibm-nasa-geospatial/Prithvi-100M-demo\n",
    "\n",
    "# Clone Prithvi-100M\n",
    "!git clone https://huggingface.co/ibm-nasa-geospatial/Prithvi-100M\n",
    "\n",
    "# To download the check point without using GLF\n",
    "!wget https://huggingface.co/ibm-nasa-geospatial/Prithvi-100M/resolve/main/Prithvi_100M.pt\n",
    "\n",
    "# Clone this to get config files\n",
    "!git clone https://github.com/NASA-IMPACT/hls-foundation-os.git"
   ]
  },
  {
   "cell_type": "code",
   "execution_count": null,
   "id": "c7867bb8-02f7-4b57-9d16-74310971839e",
   "metadata": {},
   "outputs": [],
   "source": [
    "# Need to downgrade python \n",
    "conda create -n <environment-name> python==3.9\n",
    "conda activate <environment-name>"
   ]
  },
  {
   "cell_type": "code",
   "execution_count": null,
   "id": "734b9be4-9392-4a9c-a734-e89729a64ddd",
   "metadata": {},
   "outputs": [],
   "source": [
    "!pip install torch==1.11.0+cu115 torchvision==0.12.0+cu115 --extra-index-url https://download.pytorch.org/whl/cu115"
   ]
  },
  {
   "cell_type": "code",
   "execution_count": null,
   "id": "857fa5d9-506f-4035-a422-1c5ff3054ca1",
   "metadata": {},
   "outputs": [],
   "source": [
    "cd hls-foundation-os/"
   ]
  },
  {
   "cell_type": "code",
   "execution_count": null,
   "id": "8299381c-77c1-42ed-ab3d-041291f883b1",
   "metadata": {},
   "outputs": [],
   "source": [
    "!pip install -e ."
   ]
  },
  {
   "cell_type": "code",
   "execution_count": null,
   "id": "75281e36-dcec-4314-920e-2123c76f0639",
   "metadata": {},
   "outputs": [],
   "source": [
    "!pip install -U openmim"
   ]
  },
  {
   "cell_type": "code",
   "execution_count": null,
   "id": "1474d469-3099-47b0-8018-d20b99d3eff9",
   "metadata": {},
   "outputs": [],
   "source": [
    "!mim install mmcv-full==1.6.2 -f https://download.openmmlab.com/mmcv/dist/cu115/torch1.11.0/index.html"
   ]
  },
  {
   "cell_type": "code",
   "execution_count": null,
   "id": "5704bb19-b1c4-4a3d-9378-5f4fcebdb1f9",
   "metadata": {},
   "outputs": [],
   "source": [
    "cd .."
   ]
  },
  {
   "cell_type": "code",
   "execution_count": null,
   "id": "de7eb538-5ff7-4805-be79-84d62a11deda",
   "metadata": {},
   "outputs": [],
   "source": [
    "!wget https://huggingface.co/datasets/ibm-nasa-geospatial/hls_burn_scars/resolve/main/hls_burn_scars.tar.gz"
   ]
  },
  {
   "cell_type": "code",
   "execution_count": null,
   "id": "adaf550b-2a08-4a14-846b-3675052c8120",
   "metadata": {},
   "outputs": [],
   "source": [
    "!tar -xvzf hls_burn_scars.tar.gz"
   ]
  },
  {
   "cell_type": "code",
   "execution_count": null,
   "id": "93d38b45-a208-436f-8501-ec9bf2fd198f",
   "metadata": {},
   "outputs": [],
   "source": [
    "### Set config file ###\n",
    "!mim train mmsegmentation --launcher pytorch hls-foundation-os/configs/BS.py"
   ]
  },
  {
   "cell_type": "code",
   "execution_count": null,
   "id": "698efd31-ed94-4283-94df-84f726ee7ba0",
   "metadata": {},
   "outputs": [],
   "source": [
    "mim test mmsegmentation hls-foundation-os/configs/burn_scars.py --checkpoint /path/to/best/checkpoint/model.pth --eval \"mIoU\""
   ]
  },
  {
   "cell_type": "code",
   "execution_count": null,
   "id": "1ffc2af4-195d-4048-b5c1-3a7964525b0c",
   "metadata": {},
   "outputs": [],
   "source": [
    "cd hls-foundation-os/"
   ]
  },
  {
   "cell_type": "code",
   "execution_count": null,
   "id": "caa79237-7fca-4133-afaf-29cbd3d772eb",
   "metadata": {},
   "outputs": [],
   "source": [
    "!python model_inference.py -config /home/jovyan/summer-school23-team6/hls-foundation-os/configs/BS.py -ckpt /home/jovyan/summer-school23-team6/Prithvi-100M/Prithvi_100M.pt -input /home/jovyan/summer-school23-team6/ -output /home/jovyan/summer-school23-team6/ -input_type tif"
   ]
  },
  {
   "cell_type": "code",
   "execution_count": null,
   "id": "59ccd145-99c4-4057-a9dc-9542fc3bb44b",
   "metadata": {},
   "outputs": [],
   "source": []
  }
 ],
 "metadata": {
  "kernelspec": {
   "display_name": "Python 3 (ipykernel)",
   "language": "python",
   "name": "python3"
  },
  "language_info": {
   "codemirror_mode": {
    "name": "ipython",
    "version": 3
   },
   "file_extension": ".py",
   "mimetype": "text/x-python",
   "name": "python",
   "nbconvert_exporter": "python",
   "pygments_lexer": "ipython3",
   "version": "3.8.10"
  }
 },
 "nbformat": 4,
 "nbformat_minor": 5
}
